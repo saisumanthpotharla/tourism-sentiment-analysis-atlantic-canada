{
  "nbformat": 4,
  "nbformat_minor": 0,
  "metadata": {
    "colab": {
      "provenance": [],
      "authorship_tag": "ABX9TyNul5FgOrTMRJVl8+WUKgXS",
      "include_colab_link": true
    },
    "kernelspec": {
      "name": "python3",
      "display_name": "Python 3"
    },
    "language_info": {
      "name": "python"
    }
  },
  "cells": [
    {
      "cell_type": "markdown",
      "metadata": {
        "id": "view-in-github",
        "colab_type": "text"
      },
      "source": [
        "<a href=\"https://colab.research.google.com/github/saisumanthpotharla/tourism-sentiment-analysis-atlantic-canada/blob/main/TourSent_Atlantic_V4.ipynb\" target=\"_parent\"><img src=\"https://colab.research.google.com/assets/colab-badge.svg\" alt=\"Open In Colab\"/></a>"
      ]
    },
    {
      "cell_type": "code",
      "execution_count": null,
      "metadata": {
        "colab": {
          "base_uri": "https://localhost:8080/"
        },
        "id": "nMbifcbd7N__",
        "outputId": "eb088dba-9819-4f49-9ed2-efb6466a916a"
      },
      "outputs": [
        {
          "output_type": "stream",
          "name": "stdout",
          "text": [
            "Requirement already satisfied: requests in /usr/local/lib/python3.10/dist-packages (2.32.3)\n",
            "Requirement already satisfied: charset-normalizer<4,>=2 in /usr/local/lib/python3.10/dist-packages (from requests) (3.3.2)\n",
            "Requirement already satisfied: idna<4,>=2.5 in /usr/local/lib/python3.10/dist-packages (from requests) (3.10)\n",
            "Requirement already satisfied: urllib3<3,>=1.21.1 in /usr/local/lib/python3.10/dist-packages (from requests) (2.2.3)\n",
            "Requirement already satisfied: certifi>=2017.4.17 in /usr/local/lib/python3.10/dist-packages (from requests) (2024.8.30)\n",
            "Collecting vaderSentiment\n",
            "  Downloading vaderSentiment-3.3.2-py2.py3-none-any.whl.metadata (572 bytes)\n",
            "Requirement already satisfied: requests in /usr/local/lib/python3.10/dist-packages (from vaderSentiment) (2.32.3)\n",
            "Requirement already satisfied: charset-normalizer<4,>=2 in /usr/local/lib/python3.10/dist-packages (from requests->vaderSentiment) (3.3.2)\n",
            "Requirement already satisfied: idna<4,>=2.5 in /usr/local/lib/python3.10/dist-packages (from requests->vaderSentiment) (3.10)\n",
            "Requirement already satisfied: urllib3<3,>=1.21.1 in /usr/local/lib/python3.10/dist-packages (from requests->vaderSentiment) (2.2.3)\n",
            "Requirement already satisfied: certifi>=2017.4.17 in /usr/local/lib/python3.10/dist-packages (from requests->vaderSentiment) (2024.8.30)\n",
            "Downloading vaderSentiment-3.3.2-py2.py3-none-any.whl (125 kB)\n",
            "\u001b[2K   \u001b[90m━━━━━━━━━━━━━━━━━━━━━━━━━━━━━━━━━━━━━━━━\u001b[0m \u001b[32m126.0/126.0 kB\u001b[0m \u001b[31m5.9 MB/s\u001b[0m eta \u001b[36m0:00:00\u001b[0m\n",
            "\u001b[?25hInstalling collected packages: vaderSentiment\n",
            "Successfully installed vaderSentiment-3.3.2\n"
          ]
        },
        {
          "output_type": "stream",
          "name": "stderr",
          "text": [
            "[nltk_data] Downloading package punkt to /root/nltk_data...\n",
            "[nltk_data]   Unzipping tokenizers/punkt.zip.\n",
            "[nltk_data] Downloading package stopwords to /root/nltk_data...\n",
            "[nltk_data]   Unzipping corpora/stopwords.zip.\n",
            "[nltk_data] Downloading package wordnet to /root/nltk_data...\n"
          ]
        },
        {
          "output_type": "execute_result",
          "data": {
            "text/plain": [
              "True"
            ]
          },
          "metadata": {},
          "execution_count": 1
        }
      ],
      "source": [
        "# Install necessary packages\n",
        "!pip install requests\n",
        "!pip install vaderSentiment\n",
        "\n",
        "import requests\n",
        "import time\n",
        "import json\n",
        "import pandas as pd\n",
        "from datetime import datetime\n",
        "import nltk\n",
        "from nltk.corpus import stopwords\n",
        "from nltk.tokenize import word_tokenize\n",
        "from nltk.stem import WordNetLemmatizer\n",
        "from vaderSentiment.vaderSentiment import SentimentIntensityAnalyzer\n",
        "import matplotlib.pyplot as plt\n",
        "import seaborn as sns\n",
        "from google.colab import files\n",
        "\n",
        "# Download necessary NLTK data\n",
        "nltk.download('punkt')\n",
        "nltk.download('stopwords')\n",
        "nltk.download('wordnet')\n"
      ]
    },
    {
      "cell_type": "code",
      "source": [
        "# Your API Key\n",
        "API_KEY = 'Your API Key'\n"
      ],
      "metadata": {
        "id": "SwfjTbAM7V22"
      },
      "execution_count": null,
      "outputs": []
    },
    {
      "cell_type": "code",
      "source": [
        "# Coordinates for a list of popular attractions in Atlantic Canada\n",
        "locations = [\n",
        "    {'name': 'Peggy\\'s Cove Lighthouse', 'coordinates': '44.6365,-63.5491'},\n",
        "    {'name': 'Cabot Trail', 'coordinates': '46.6828,-60.5931'},\n",
        "    {'name': 'Fortress of Louisbourg', 'coordinates': '45.8981,-59.9580'},\n",
        "    {'name': 'Halifax Citadel', 'coordinates': '44.6483,-63.5695'},\n",
        "    {'name': 'Cape Breton Highlands National Park', 'coordinates': '46.2343,-60.3295'},\n",
        "    {'name': 'Bay of Fundy', 'coordinates': '45.6593,-64.2957'},\n",
        "    {'name': 'Hopewell Rocks', 'coordinates': '45.8473,-64.5149'},\n",
        "    {'name': 'Magnetic Hill', 'coordinates': '46.0597,-64.8045'},\n",
        "    {'name': 'Fundy National Park', 'coordinates': '45.6991,-64.4660'},\n",
        "    {'name': 'Kings Landing Historical Settlement', 'coordinates': '45.7265,-66.4878'},\n",
        "    {'name': 'Green Gables House', 'coordinates': '46.4871,-63.1895'},\n",
        "    {'name': 'Confederation Bridge', 'coordinates': '46.2186,-63.7984'},\n",
        "    {'name': 'Prince Edward Island National Park', 'coordinates': '46.4931,-63.2872'},\n",
        "    {'name': 'Charlottetown Waterfront', 'coordinates': '46.2382,-63.1282'},\n",
        "    {'name': 'Cavendish Beach', 'coordinates': '46.4874,-63.1951'},\n",
        "    {'name': 'Gros Morne National Park', 'coordinates': '49.5250,-57.6281'},\n",
        "    {'name': 'Signal Hill', 'coordinates': '47.5634,-52.7086'},\n",
        "    {'name': 'L\\'Anse aux Meadows', 'coordinates': '51.6000,-55.5875'},\n",
        "    {'name': 'Cape Spear Lighthouse', 'coordinates': '47.5017,-52.6120'},\n",
        "    {'name': 'Twillingate', 'coordinates': '49.4370,-54.7660'}\n",
        "]"
      ],
      "metadata": {
        "id": "zxC0qwy07eB7"
      },
      "execution_count": null,
      "outputs": []
    },
    {
      "cell_type": "code",
      "source": [
        "\n",
        "# Define a search radius (in meters)\n",
        "radius = 5000  # 5 km radius around the attraction"
      ],
      "metadata": {
        "id": "TqTy5ZIK7grb"
      },
      "execution_count": null,
      "outputs": []
    },
    {
      "cell_type": "code",
      "source": [
        "\n",
        "# Base URLs for Google Places API\n",
        "places_url = 'https://maps.googleapis.com/maps/api/place/textsearch/json'\n",
        "details_url = 'https://maps.googleapis.com/maps/api/place/details/json'"
      ],
      "metadata": {
        "id": "XttuZNum7jIw"
      },
      "execution_count": null,
      "outputs": []
    },
    {
      "cell_type": "code",
      "source": [
        "# Function to fetch places data\n",
        "def get_places_data(query, location, radius):\n",
        "    params = {\n",
        "        'query': query,\n",
        "        'location': location,\n",
        "        'radius': radius,\n",
        "        'key': API_KEY\n",
        "    }\n",
        "    response = requests.get(places_url, params=params)\n",
        "    return response.json()"
      ],
      "metadata": {
        "id": "HtfGIapV7lAr"
      },
      "execution_count": null,
      "outputs": []
    },
    {
      "cell_type": "code",
      "source": [
        "# Function to fetch reviews for a specific place\n",
        "def get_place_reviews(place_id):\n",
        "    params = {\n",
        "        'place_id': place_id,\n",
        "        'key': API_KEY,\n",
        "        'fields': 'name,rating,reviews'\n",
        "    }\n",
        "    response = requests.get(details_url, params=params)\n",
        "    return response.json()"
      ],
      "metadata": {
        "id": "vRMwYMcL7nkE"
      },
      "execution_count": null,
      "outputs": []
    },
    {
      "cell_type": "code",
      "source": [
        "# Function to gather reviews up to a specified limit\n",
        "def gather_reviews(place_id, limit=100):\n",
        "    all_reviews = []\n",
        "    while len(all_reviews) < limit:\n",
        "        reviews_data = get_place_reviews(place_id)\n",
        "        reviews = reviews_data.get('result', {}).get('reviews', [])\n",
        "\n",
        "        for review in reviews:\n",
        "            review_info = {\n",
        "                'text': review.get('text'),\n",
        "                'time': review.get('time')  # Include time of review\n",
        "            }\n",
        "            all_reviews.append(review_info)\n",
        "\n",
        "        # Check if we have reached the limit or if no more reviews are available\n",
        "        if not reviews or len(reviews) < 20:\n",
        "            break\n",
        "        time.sleep(1)  # Respect API rate limits\n",
        "    return all_reviews[:limit]  # Return only up to the specified limit"
      ],
      "metadata": {
        "id": "vdIb1Hcr7pnq"
      },
      "execution_count": null,
      "outputs": []
    },
    {
      "cell_type": "code",
      "source": [
        "# Initialize lists to store results\n",
        "all_attraction_reviews = []\n",
        "all_accommodation_reviews = []\n",
        "all_food_reviews = []"
      ],
      "metadata": {
        "id": "ncCHpEUK7s2u"
      },
      "execution_count": null,
      "outputs": []
    },
    {
      "cell_type": "code",
      "source": [
        "# Loop through each location\n",
        "for loc in locations:\n",
        "    location = loc['coordinates']\n",
        "\n",
        "    # Fetch data for attractions, accommodations, and food\n",
        "    attractions_data = get_places_data('tourist attractions', location, radius)\n",
        "    accommodation_data = get_places_data('accommodation', location, radius)\n",
        "    food_data = get_places_data('restaurants', location, radius)\n",
        "\n",
        "    # Fetch reviews for attractions\n",
        "    attraction_reviews = []\n",
        "    for attraction in attractions_data.get('results', []):\n",
        "        place_id = attraction['place_id']\n",
        "        reviews = gather_reviews(place_id, limit=100)  # Ensuring 100 reviews per attraction\n",
        "        attraction_reviews.append({'name': attraction['name'], 'reviews': reviews})\n",
        "\n",
        "    all_attraction_reviews.append({'location': loc['name'], 'reviews': attraction_reviews})\n",
        "\n",
        "    # Fetch reviews for accommodations (limit to 10)\n",
        "    accommodation_reviews = []\n",
        "    for accommodation in accommodation_data.get('results', [])[:10]:\n",
        "        place_id = accommodation['place_id']\n",
        "        reviews = gather_reviews(place_id, limit=20)\n",
        "        accommodation_reviews.append({\n",
        "            'name': accommodation['name'],\n",
        "            'reviews': reviews,\n",
        "            'attraction_location': loc['name']\n",
        "        })\n",
        "\n",
        "    all_accommodation_reviews.append({'location': loc['name'], 'reviews': accommodation_reviews})\n",
        "\n",
        "    # Fetch reviews for food places (limit to 20)\n",
        "    food_reviews = []\n",
        "    for food_place in food_data.get('results', [])[:20]:\n",
        "        place_id = food_place['place_id']\n",
        "        reviews = gather_reviews(place_id, limit=20)\n",
        "        food_reviews.append({\n",
        "            'name': food_place['name'],\n",
        "            'reviews': reviews,\n",
        "            'attraction_location': loc['name']\n",
        "        })\n",
        "\n",
        "    all_food_reviews.append({'location': loc['name'], 'reviews': food_reviews})\n",
        "\n",
        "    # Add a delay to respect rate limits\n",
        "    time.sleep(1)"
      ],
      "metadata": {
        "id": "7e0zBew_7uwi"
      },
      "execution_count": null,
      "outputs": []
    },
    {
      "cell_type": "code",
      "source": [
        "# Print the number of reviews fetched for each category\n",
        "print(f\"Fetched {sum(len(attraction['reviews']) for attraction in all_attraction_reviews)} attraction reviews.\")\n",
        "print(f\"Fetched {sum(len(accommodation['reviews']) for accommodation in all_accommodation_reviews)} accommodation reviews.\")\n",
        "print(f\"Fetched {sum(len(food['reviews']) for food in all_food_reviews)} food reviews.\")\n"
      ],
      "metadata": {
        "colab": {
          "base_uri": "https://localhost:8080/"
        },
        "id": "WJHvxeHM79X7",
        "outputId": "bb385d65-2eaa-4b14-ef98-255b2a3135fc"
      },
      "execution_count": null,
      "outputs": [
        {
          "output_type": "stream",
          "name": "stdout",
          "text": [
            "Fetched 380 attraction reviews.\n",
            "Fetched 198 accommodation reviews.\n",
            "Fetched 398 food reviews.\n"
          ]
        }
      ]
    },
    {
      "cell_type": "code",
      "source": [
        "# Function to flatten review data\n",
        "def flatten_reviews(review_data, category):\n",
        "    data = []\n",
        "    for location_reviews in review_data:\n",
        "        for review in location_reviews['reviews']:\n",
        "            for r in review['reviews']:\n",
        "                data.append({\n",
        "                    'location': location_reviews['location'],\n",
        "                    'review_source': review['name'],\n",
        "                    'review_text': r['text'],\n",
        "                    'review_time': datetime.fromtimestamp(r['time']),\n",
        "                    'category': category  # Add category for differentiation\n",
        "                })\n",
        "    return pd.DataFrame(data)"
      ],
      "metadata": {
        "id": "9JJ8i5To8tQE"
      },
      "execution_count": null,
      "outputs": []
    },
    {
      "cell_type": "code",
      "source": [
        "# Flatten data for each category\n",
        "attraction_df = flatten_reviews(all_attraction_reviews, 'Attraction')\n",
        "accommodation_df = flatten_reviews(all_accommodation_reviews, 'Accommodation')\n",
        "food_df = flatten_reviews(all_food_reviews, 'Food')"
      ],
      "metadata": {
        "id": "0_eFi_ov8xlV"
      },
      "execution_count": null,
      "outputs": []
    },
    {
      "cell_type": "code",
      "source": [
        "# Initialize VADER sentiment analyzer\n",
        "sia = SentimentIntensityAnalyzer()"
      ],
      "metadata": {
        "id": "7O2lil7C80-n"
      },
      "execution_count": null,
      "outputs": []
    },
    {
      "cell_type": "code",
      "source": [
        "# Function to preprocess and analyze sentiment\n",
        "def preprocess_and_analyze_sentiment(df):\n",
        "    lemmatizer = WordNetLemmatizer()\n",
        "    stop_words = set(stopwords.words('english'))\n",
        "\n",
        "    # Cleaning the review text\n",
        "    def preprocess_review(text):\n",
        "        tokens = word_tokenize(text.lower())\n",
        "        tokens = [lemmatizer.lemmatize(word) for word in tokens if word.isalnum() and word not in stop_words]\n",
        "        return ' '.join(tokens)\n",
        "\n",
        "    # Apply cleaning function\n",
        "    df['cleaned_review'] = df['review_text'].apply(preprocess_review)\n",
        "\n",
        "    # Apply sentiment analysis\n",
        "    df['sentiment_score'] = df['cleaned_review'].apply(lambda x: sia.polarity_scores(x)['compound'])\n",
        "\n",
        "    return df"
      ],
      "metadata": {
        "id": "U3RkGbvB83kx"
      },
      "execution_count": null,
      "outputs": []
    },
    {
      "cell_type": "code",
      "source": [
        "# Assume you have separate DataFrames for attraction, food, and accommodation reviews\n",
        "# Each DataFrame contains a 'review_text' column\n",
        "# Replace with your actual DataFrame names\n",
        "attraction_df = preprocess_and_analyze_sentiment(attraction_df)\n",
        "food_df = preprocess_and_analyze_sentiment(food_df)\n",
        "accommodation_df = preprocess_and_analyze_sentiment(accommodation_df)"
      ],
      "metadata": {
        "id": "CUyjCvwd9bq7"
      },
      "execution_count": null,
      "outputs": []
    },
    {
      "cell_type": "code",
      "source": [
        "# Add a category column to each DataFrame to track where the reviews come from\n",
        "attraction_df['category'] = 'Attraction'\n",
        "food_df['category'] = 'Food'\n",
        "accommodation_df['category'] = 'Accommodation'"
      ],
      "metadata": {
        "id": "bso_BAUkCh4b"
      },
      "execution_count": null,
      "outputs": []
    },
    {
      "cell_type": "code",
      "source": [
        "# Combine the dataframes\n",
        "combined_df = pd.concat([attraction_df, food_df, accommodation_df], ignore_index=True)\n",
        "\n",
        "# Ensure necessary columns are present\n",
        "combined_df['cleaned_review'] = combined_df['cleaned_review'].fillna('')\n",
        "combined_df['category'] = combined_df['category'].fillna('Unknown')"
      ],
      "metadata": {
        "id": "gos3MmE5CmFt"
      },
      "execution_count": null,
      "outputs": []
    },
    {
      "cell_type": "code",
      "source": [
        "# Group by location and calculate the mean sentiment score for each category\n",
        "sentiment_by_location = combined_df.groupby(['location', 'category'])['sentiment_score'].mean().unstack()\n",
        "\n",
        "# Correlation analysis between the sentiment scores for Food, Accommodation, and Attraction\n",
        "correlation_matrix = sentiment_by_location[['Food', 'Accommodation', 'Attraction']].corr()\n",
        "\n",
        "# Display correlation matrix\n",
        "print(\"Correlation between Food, Accommodation, and Attraction Sentiment Scores:\")\n",
        "print(correlation_matrix)"
      ],
      "metadata": {
        "colab": {
          "base_uri": "https://localhost:8080/"
        },
        "id": "5NXr2V29F52z",
        "outputId": "db01d4c4-fd10-4cd4-8f29-991b8d22a749"
      },
      "execution_count": null,
      "outputs": [
        {
          "output_type": "stream",
          "name": "stdout",
          "text": [
            "Correlation between Food, Accommodation, and Attraction Sentiment Scores:\n",
            "category           Food  Accommodation  Attraction\n",
            "category                                          \n",
            "Food           1.000000       0.000960    0.161079\n",
            "Accommodation  0.000960       1.000000    0.021525\n",
            "Attraction     0.161079       0.021525    1.000000\n"
          ]
        }
      ]
    },
    {
      "cell_type": "code",
      "source": [
        "# Plotting correlation matrix\n",
        "plt.figure(figsize=(8, 6))\n",
        "sns.heatmap(correlation_matrix, annot=True, cmap=\"coolwarm\", vmin=-1, vmax=1)\n",
        "plt.title('Correlation between Food, Accommodation, and Attraction Sentiment')\n",
        "plt.show()"
      ],
      "metadata": {
        "colab": {
          "base_uri": "https://localhost:8080/",
          "height": 564
        },
        "id": "_vQXubDtF9LQ",
        "outputId": "8bc46c5f-8a3a-4788-b2be-4e49fa67184d"
      },
      "execution_count": null,
      "outputs": [
        {
          "output_type": "display_data",
          "data": {
            "text/plain": [
              "<Figure size 800x600 with 2 Axes>"
            ],
            "image/png": "[encoded data removed]"
          },
          "metadata": {}
        }
      ]
    },
    {
      "cell_type": "code",
      "source": [
        "from sklearn.feature_extraction.text import CountVectorizer\n",
        "\n",
        "def get_top_keywords(df, n=10):\n",
        "    # Create a CountVectorizer to count word occurrences\n",
        "    vectorizer = CountVectorizer(stop_words='english')\n",
        "    X = vectorizer.fit_transform(df['cleaned_review'])\n",
        "\n",
        "    # Sum up the counts of each vocabulary word\n",
        "    word_counts = X.toarray().sum(axis=0)\n",
        "\n",
        "    # Create a DataFrame of words and their counts\n",
        "    keywords = pd.DataFrame({'word': vectorizer.get_feature_names_out(), 'count': word_counts})\n",
        "\n",
        "    # Sort by count and return the top n words\n",
        "    return keywords.sort_values(by='count', ascending=False).head(n)\n",
        "\n",
        "# Get top keywords for each category\n",
        "attraction_keywords = get_top_keywords(attraction_df)\n",
        "accommodation_keywords = get_top_keywords(accommodation_df)\n",
        "food_keywords = get_top_keywords(food_df)\n",
        "\n",
        "print(\"Top Keywords in Attraction Reviews:\")\n",
        "print(attraction_keywords)\n",
        "\n",
        "print(\"\\nTop Keywords in Accommodation Reviews:\")\n",
        "print(accommodation_keywords)\n",
        "\n",
        "print(\"\\nTop Keywords in Food Reviews:\")\n",
        "print(food_keywords)\n"
      ],
      "metadata": {
        "colab": {
          "base_uri": "https://localhost:8080/"
        },
        "id": "SFDVao0OLjMN",
        "outputId": "e97f8c3e-268a-4b58-a2aa-840d63169622"
      },
      "execution_count": null,
      "outputs": [
        {
          "output_type": "stream",
          "name": "stdout",
          "text": [
            "Top Keywords in Attraction Reviews:\n",
            "           word  count\n",
            "2548      place    420\n",
            "2450       park    418\n",
            "356   beautiful    371\n",
            "1536      great    350\n",
            "3704       view    332\n",
            "2313       nice    288\n",
            "3545      trail    268\n",
            "3717      visit    263\n",
            "3496       time    231\n",
            "2061        lot    225\n",
            "\n",
            "Top Keywords in Accommodation Reviews:\n",
            "           word  count\n",
            "3335       room    764\n",
            "3776       stay    568\n",
            "1749      great    449\n",
            "761       clean    364\n",
            "515   breakfast    355\n",
            "2900      place    351\n",
            "942     cottage    305\n",
            "1929      hotel    287\n",
            "2308   location    265\n",
            "2629       nice    260\n",
            "\n",
            "Top Keywords in Food Reviews:\n",
            "            word  count\n",
            "1982        food   1384\n",
            "2158        good    864\n",
            "2203       great    792\n",
            "4332     service    693\n",
            "3642       place    605\n",
            "4068  restaurant    545\n",
            "4996        time    469\n",
            "1382   delicious    419\n",
            "4638       staff    403\n",
            "2039    friendly    385\n"
          ]
        }
      ]
    },
    {
      "cell_type": "code",
      "source": [],
      "metadata": {
        "id": "1WIvjRMwMK_A"
      },
      "execution_count": null,
      "outputs": []
    }
  ]
}